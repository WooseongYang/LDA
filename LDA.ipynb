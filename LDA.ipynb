{
 "cells": [
  {
   "cell_type": "code",
   "execution_count": 1,
   "metadata": {},
   "outputs": [],
   "source": [
    "import pandas as pd\n",
    "import numpy as np\n",
    "from gensim import corpora, models\n",
    "import gensim\n",
    "import pyLDAvis.gensim\n",
    "import joblib\n",
    "import pickle"
   ]
  },
  {
   "cell_type": "code",
   "execution_count": 2,
   "metadata": {},
   "outputs": [],
   "source": [
    "path_Movies_pre = r'./data/preprocessed/Movies.pickle'\n",
    "path_Music_pre = r'./data/preprocessed/Music.pickle'\n",
    "path_Appliances_pre = r'./data/preprocessed/Appliances.pickle'\n",
    "path_Fashion_pre = r'./data/preprocessed/Fashion.pickle'\n",
    "path_Beauty_pre = r'./data/preprocessed/Beauty.pickle'\n",
    "path_Books_pre = r'./data/preprocessed/Books.pickle'\n",
    "path_Food_pre = r'./data/preprocessed/Food.pickle'\n",
    "path_Instruments_pre = r'./data/preprocessed/Instruments.pickle'\n",
    "path_Games_pre = r'./data/preprocessed/Games.pickle'"
   ]
  },
  {
   "cell_type": "code",
   "execution_count": 3,
   "metadata": {},
   "outputs": [],
   "source": [
    "path_Movies_3 = r'./data/preprocessed/Movies_3.pickle'\n",
    "path_Music_3 = r'./data/preprocessed/Music_3.pickle'\n",
    "path_Appliances_3 = r'./data/preprocessed/Appliances_3.pickle'\n",
    "path_Fashion_3 = r'./data/preprocessed/Fashion_3.pickle'\n",
    "path_Beauty_3 = r'./data/preprocessed/Beauty_3.pickle'\n",
    "path_Books_3 = r'./data/preprocessed/Books_3.pickle'\n",
    "path_Food_3 = r'./data/preprocessed/Food_3.pickle'\n",
    "path_Instruments_3 = r'./data/preprocessed/Instruments_3.pickle'\n",
    "path_Games_3 = r'./data/preprocessed/Games_3.pickle'"
   ]
  },
  {
   "cell_type": "code",
   "execution_count": 4,
   "metadata": {},
   "outputs": [],
   "source": [
    "with open(path_Games_3,'rb') as f:\n",
    "    tokenized_df = pickle.load(f)"
   ]
  },
  {
   "cell_type": "code",
   "execution_count": 5,
   "metadata": {},
   "outputs": [],
   "source": [
    "tokenized_df = tokenized_df['clean_doc']"
   ]
  },
  {
   "cell_type": "code",
   "execution_count": 6,
   "metadata": {},
   "outputs": [],
   "source": [
    "texts = tokenized_df\n",
    "#texts"
   ]
  },
  {
   "cell_type": "code",
   "execution_count": 7,
   "metadata": {},
   "outputs": [],
   "source": [
    "# turn our tokenized documents into a id <-> term dictionary\n",
    "dictionary = corpora.Dictionary(texts)"
   ]
  },
  {
   "cell_type": "code",
   "execution_count": 8,
   "metadata": {},
   "outputs": [],
   "source": [
    "# convert tokenized documents into a document-term matrix\n",
    "corpus = [dictionary.doc2bow(text) for text in texts]"
   ]
  },
  {
   "cell_type": "code",
   "execution_count": 9,
   "metadata": {},
   "outputs": [
    {
     "data": {
      "text/plain": [
       "<gensim.interfaces.TransformedCorpus at 0x1659e4e32e8>"
      ]
     },
     "execution_count": 9,
     "metadata": {},
     "output_type": "execute_result"
    }
   ],
   "source": [
    "tfidf = models.TfidfModel(corpus)\n",
    "corpus_tfidf = tfidf[corpus]\n",
    "corpus_tfidf"
   ]
  },
  {
   "cell_type": "code",
   "execution_count": 10,
   "metadata": {},
   "outputs": [],
   "source": [
    "####\n",
    "d = {dictionary.get(id): value for doc in corpus_tfidf for id, value in doc}"
   ]
  },
  {
   "cell_type": "code",
   "execution_count": 11,
   "metadata": {},
   "outputs": [],
   "source": [
    "a = sorted(d.values())"
   ]
  },
  {
   "cell_type": "code",
   "execution_count": 12,
   "metadata": {},
   "outputs": [
    {
     "data": {
      "text/plain": [
       "numpy.float64"
      ]
     },
     "execution_count": 12,
     "metadata": {},
     "output_type": "execute_result"
    }
   ],
   "source": [
    "type(list(d.values())[0])"
   ]
  },
  {
   "cell_type": "code",
   "execution_count": 13,
   "metadata": {},
   "outputs": [],
   "source": [
    "med = a[round(0.6*len(a))]"
   ]
  },
  {
   "cell_type": "code",
   "execution_count": 14,
   "metadata": {},
   "outputs": [],
   "source": [
    "num = []\n",
    "for i in range(len(d)):\n",
    "    if list(d.values())[i] < med:\n",
    "        num.append(i)"
   ]
  },
  {
   "cell_type": "code",
   "execution_count": 15,
   "metadata": {},
   "outputs": [],
   "source": [
    "for i in range(len(corpus)):\n",
    "    #print(i)\n",
    "    #print(len(corpus[i]))\n",
    "    for j in corpus[i]:\n",
    "        #print(j)\n",
    "        if j[0] in num:\n",
    "            corpus[i].remove(j)"
   ]
  },
  {
   "cell_type": "code",
   "execution_count": 16,
   "metadata": {},
   "outputs": [],
   "source": [
    "# generate LDA model\n",
    "ldamodel = gensim.models.ldamodel.LdaModel(corpus, num_topics=10, id2word = dictionary, passes=20)"
   ]
  },
  {
   "cell_type": "code",
   "execution_count": 17,
   "metadata": {},
   "outputs": [
    {
     "name": "stdout",
     "output_type": "stream",
     "text": [
      "(0, '0.035*\"use\" + 0.018*\"sound\" + 0.013*\"button\" + 0.009*\"make\" + 0.008*\"like\" + 0.008*\"hand\" + 0.008*\"also\" + 0.008*\"one\" + 0.007*\"well\" + 0.007*\"feel\" + 0.007*\"look\" + 0.007*\"quality\" + 0.007*\"light\" + 0.006*\"set\" + 0.006*\"little\" + 0.006*\"stick\" + 0.006*\"control\" + 0.005*\"would\" + 0.005*\"get\" + 0.005*\"mouse\"')\n"
     ]
    }
   ],
   "source": [
    "topics = ldamodel.print_topics(num_words = 20)\n",
    "print(topics[0][:5])"
   ]
  },
  {
   "cell_type": "code",
   "execution_count": 18,
   "metadata": {},
   "outputs": [],
   "source": [
    "#pickle\n",
    "#joblib.dump(ldamodel, r'./models/Games_model.jl')"
   ]
  },
  {
   "cell_type": "code",
   "execution_count": 19,
   "metadata": {},
   "outputs": [],
   "source": [
    "#with open(r'./models/corpus_Games.pickle','wb') as f:\n",
    "#    pickle.dump(corpus,f)\n",
    "#with open(r'./models/dictionary_Games.pickle','wb') as f:\n",
    "#    pickle.dump(dictionary,f)"
   ]
  },
  {
   "cell_type": "code",
   "execution_count": null,
   "metadata": {},
   "outputs": [],
   "source": []
  }
 ],
 "metadata": {
  "kernelspec": {
   "display_name": "env",
   "language": "python",
   "name": "env"
  },
  "language_info": {
   "codemirror_mode": {
    "name": "ipython",
    "version": 3
   },
   "file_extension": ".py",
   "mimetype": "text/x-python",
   "name": "python",
   "nbconvert_exporter": "python",
   "pygments_lexer": "ipython3",
   "version": "3.6.10"
  }
 },
 "nbformat": 4,
 "nbformat_minor": 4
}
